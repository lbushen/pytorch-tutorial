{
  "nbformat": 4,
  "nbformat_minor": 0,
  "metadata": {
    "colab": {
      "provenance": [],
      "gpuType": "T4",
      "authorship_tag": "ABX9TyMfCwjl+GdlmIg9B16gzzpm",
      "include_colab_link": true
    },
    "kernelspec": {
      "name": "python3",
      "display_name": "Python 3"
    },
    "language_info": {
      "name": "python"
    },
    "accelerator": "GPU"
  },
  "cells": [
    {
      "cell_type": "markdown",
      "metadata": {
        "id": "view-in-github",
        "colab_type": "text"
      },
      "source": [
        "<a href=\"https://colab.research.google.com/github/lbushen/pytorch-tutorial/blob/main/basic_NN_model.ipynb\" target=\"_parent\"><img src=\"https://colab.research.google.com/assets/colab-badge.svg\" alt=\"Open In Colab\"/></a>"
      ]
    },
    {
      "cell_type": "code",
      "execution_count": 3,
      "metadata": {
        "id": "vbfq1U6B8bq9"
      },
      "outputs": [],
      "source": [
        "import torch\n",
        "import torch.nn as nn\n",
        "import torch.nn.functional as F"
      ]
    },
    {
      "cell_type": "markdown",
      "source": [
        "create a NN with the Iris flower dataset"
      ],
      "metadata": {
        "id": "VMeuGPlk__-e"
      }
    },
    {
      "cell_type": "code",
      "source": [
        "# create a model class that inherits nn.Module\n",
        "class Model(nn.Module):\n",
        "  # input layer (4 features of the flower) --> hidden layer, number of neurons (H1) --> hidden layer H2 (n) --> output layer (3 classes of iris flowers)\n",
        "  def __init__(self, in_features = 4, h1=8, h2=9, out_features = 3):\n",
        "    super().__init__() # instantiate our nn.Module\n",
        "    self.fc1 = nn.Linear(in_features, h1) # 'fc' stands for 'fully connected'\n",
        "    self.fc2 = nn.Linear(h1, h2)\n",
        "    self.out = nn.Linear(h2, out_features)\n",
        "\n",
        "  # create a function to move info forward through layers of the NN\n",
        "  def forward(self, x):\n",
        "    x = F.relu(self.fc1(x))\n",
        "    x = F.relu(self.fc2(x))\n",
        "    x = F.relu(self.out(x))\n",
        "\n",
        "    return x\n"
      ],
      "metadata": {
        "id": "vIVY9mD_-B7z"
      },
      "execution_count": 8,
      "outputs": []
    },
    {
      "cell_type": "markdown",
      "source": [
        "turn on NN"
      ],
      "metadata": {
        "id": "Mr-owsHVE8gR"
      }
    },
    {
      "cell_type": "code",
      "source": [
        "# pick a random seed for randomization\n",
        "torch.manual_seed(42)\n",
        "\n",
        "# create an instance of the Model\n",
        "model = Model()"
      ],
      "metadata": {
        "id": "GUZg2lSeAEpC"
      },
      "execution_count": 9,
      "outputs": []
    },
    {
      "cell_type": "code",
      "source": [],
      "metadata": {
        "id": "pdfVux6PFTDM"
      },
      "execution_count": null,
      "outputs": []
    }
  ]
}